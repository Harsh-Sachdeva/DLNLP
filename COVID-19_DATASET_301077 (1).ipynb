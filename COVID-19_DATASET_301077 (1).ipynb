{
 "cells": [
  {
   "cell_type": "code",
   "execution_count": 1,
   "id": "666bb25b",
   "metadata": {},
   "outputs": [],
   "source": [
    "import tensorflow as tf\n",
    "from keras.preprocessing.image import ImageDataGenerator"
   ]
  },
  {
   "cell_type": "code",
   "execution_count": 2,
   "id": "8259994c",
   "metadata": {},
   "outputs": [
    {
     "name": "stdout",
     "output_type": "stream",
     "text": [
      "Found 251 images belonging to 3 classes.\n"
     ]
    }
   ],
   "source": [
    "train_datagen = ImageDataGenerator(rescale = 1./255,\n",
    "                                   shear_range = 0.2,\n",
    "                                   zoom_range = 0.2,\n",
    "                                   horizontal_flip = True)\n",
    "training_set = train_datagen.flow_from_directory('C:\\\\Users\\\\91805\\\\Downloads\\\\Covid19-dataset\\\\train',\n",
    "                                                 target_size = (64, 64),\n",
    "                                                 batch_size = 32,\n",
    "                                                 class_mode = 'categorical')"
   ]
  },
  {
   "cell_type": "code",
   "execution_count": 3,
   "id": "40f9e07c",
   "metadata": {},
   "outputs": [
    {
     "name": "stdout",
     "output_type": "stream",
     "text": [
      "Found 66 images belonging to 3 classes.\n"
     ]
    }
   ],
   "source": [
    "test_datagen = ImageDataGenerator(rescale = 1./255)\n",
    "test_set = test_datagen.flow_from_directory('C:\\\\Users\\\\91805\\\\Downloads\\\\Covid19-dataset\\\\test',\n",
    "                                            target_size = (64, 64),\n",
    "                                            batch_size = 32,\n",
    "                                            class_mode = 'categorical')"
   ]
  },
  {
   "cell_type": "code",
   "execution_count": 4,
   "id": "ca5dbc52",
   "metadata": {},
   "outputs": [],
   "source": [
    "cnn = tf.keras.models.Sequential()"
   ]
  },
  {
   "cell_type": "code",
   "execution_count": 5,
   "id": "e3612509",
   "metadata": {},
   "outputs": [],
   "source": [
    "cnn.add(tf.keras.layers.Conv2D(32,(3,3),activation='relu', input_shape=[64, 64, 3]))"
   ]
  },
  {
   "cell_type": "code",
   "execution_count": 6,
   "id": "26844646",
   "metadata": {},
   "outputs": [],
   "source": [
    "cnn.add(tf.keras.layers.MaxPool2D(pool_size=2, strides=2))"
   ]
  },
  {
   "cell_type": "code",
   "execution_count": 7,
   "id": "50c1c3df",
   "metadata": {},
   "outputs": [],
   "source": [
    "cnn.add(tf.keras.layers.Conv2D(32,(3,3),activation='relu'))\n",
    "cnn.add(tf.keras.layers.MaxPool2D(pool_size=2, strides=2))"
   ]
  },
  {
   "cell_type": "code",
   "execution_count": 8,
   "id": "f1290baa",
   "metadata": {},
   "outputs": [],
   "source": [
    "cnn.add(tf.keras.layers.Conv2D(32,(3,3),activation='relu'))\n",
    "cnn.add(tf.keras.layers.MaxPool2D(pool_size=2, strides=2))"
   ]
  },
  {
   "cell_type": "code",
   "execution_count": 9,
   "id": "dd4a14b5",
   "metadata": {},
   "outputs": [
    {
     "name": "stdout",
     "output_type": "stream",
     "text": [
      "Epoch 1/25\n",
      "8/8 [==============================] - 32s 4s/step - loss: 1.1115 - accuracy: 0.3426 - val_loss: 1.0978 - val_accuracy: 0.3939\n",
      "Epoch 2/25\n",
      "8/8 [==============================] - 23s 3s/step - loss: 1.0967 - accuracy: 0.4422 - val_loss: 1.0972 - val_accuracy: 0.3939\n",
      "Epoch 3/25\n",
      "8/8 [==============================] - 25s 3s/step - loss: 1.0956 - accuracy: 0.4422 - val_loss: 1.0966 - val_accuracy: 0.3939\n",
      "Epoch 4/25\n",
      "8/8 [==============================] - 25s 3s/step - loss: 1.0944 - accuracy: 0.4422 - val_loss: 1.0961 - val_accuracy: 0.3939\n",
      "Epoch 5/25\n",
      "8/8 [==============================] - 27s 3s/step - loss: 1.0935 - accuracy: 0.4422 - val_loss: 1.0955 - val_accuracy: 0.3939\n",
      "Epoch 6/25\n",
      "8/8 [==============================] - 23s 3s/step - loss: 1.0923 - accuracy: 0.4422 - val_loss: 1.0951 - val_accuracy: 0.3939\n",
      "Epoch 7/25\n",
      "8/8 [==============================] - 16s 2s/step - loss: 1.0914 - accuracy: 0.4422 - val_loss: 1.0946 - val_accuracy: 0.3939\n",
      "Epoch 8/25\n",
      "8/8 [==============================] - 16s 2s/step - loss: 1.0907 - accuracy: 0.4422 - val_loss: 1.0942 - val_accuracy: 0.3939\n",
      "Epoch 9/25\n",
      "8/8 [==============================] - 16s 2s/step - loss: 1.0896 - accuracy: 0.4422 - val_loss: 1.0938 - val_accuracy: 0.3939\n",
      "Epoch 10/25\n",
      "8/8 [==============================] - 16s 2s/step - loss: 1.0887 - accuracy: 0.4422 - val_loss: 1.0934 - val_accuracy: 0.3939\n",
      "Epoch 11/25\n",
      "8/8 [==============================] - 17s 2s/step - loss: 1.0878 - accuracy: 0.4422 - val_loss: 1.0931 - val_accuracy: 0.3939\n",
      "Epoch 12/25\n",
      "8/8 [==============================] - 17s 2s/step - loss: 1.0871 - accuracy: 0.4422 - val_loss: 1.0928 - val_accuracy: 0.3939\n",
      "Epoch 13/25\n",
      "8/8 [==============================] - 17s 2s/step - loss: 1.0864 - accuracy: 0.4422 - val_loss: 1.0925 - val_accuracy: 0.3939\n",
      "Epoch 14/25\n",
      "8/8 [==============================] - 16s 2s/step - loss: 1.0857 - accuracy: 0.4422 - val_loss: 1.0923 - val_accuracy: 0.3939\n",
      "Epoch 15/25\n",
      "8/8 [==============================] - 17s 2s/step - loss: 1.0852 - accuracy: 0.4422 - val_loss: 1.0920 - val_accuracy: 0.3939\n",
      "Epoch 16/25\n",
      "8/8 [==============================] - 16s 2s/step - loss: 1.0844 - accuracy: 0.4422 - val_loss: 1.0918 - val_accuracy: 0.3939\n",
      "Epoch 17/25\n",
      "8/8 [==============================] - 16s 2s/step - loss: 1.0839 - accuracy: 0.4422 - val_loss: 1.0916 - val_accuracy: 0.3939\n",
      "Epoch 18/25\n",
      "8/8 [==============================] - 17s 2s/step - loss: 1.0833 - accuracy: 0.4422 - val_loss: 1.0915 - val_accuracy: 0.3939\n",
      "Epoch 19/25\n",
      "8/8 [==============================] - 17s 2s/step - loss: 1.0828 - accuracy: 0.4422 - val_loss: 1.0913 - val_accuracy: 0.3939\n",
      "Epoch 20/25\n",
      "8/8 [==============================] - 16s 2s/step - loss: 1.0824 - accuracy: 0.4422 - val_loss: 1.0912 - val_accuracy: 0.3939\n",
      "Epoch 21/25\n",
      "8/8 [==============================] - 17s 2s/step - loss: 1.0817 - accuracy: 0.4422 - val_loss: 1.0911 - val_accuracy: 0.3939\n",
      "Epoch 22/25\n",
      "8/8 [==============================] - 15s 2s/step - loss: 1.0813 - accuracy: 0.4422 - val_loss: 1.0909 - val_accuracy: 0.3939\n",
      "Epoch 23/25\n",
      "8/8 [==============================] - 15s 2s/step - loss: 1.0808 - accuracy: 0.4422 - val_loss: 1.0909 - val_accuracy: 0.3939\n",
      "Epoch 24/25\n",
      "8/8 [==============================] - 15s 2s/step - loss: 1.0805 - accuracy: 0.4422 - val_loss: 1.0908 - val_accuracy: 0.3939\n",
      "Epoch 25/25\n",
      "8/8 [==============================] - 16s 2s/step - loss: 1.0801 - accuracy: 0.4422 - val_loss: 1.0907 - val_accuracy: 0.3939\n"
     ]
    },
    {
     "data": {
      "text/plain": [
       "<keras.callbacks.History at 0x2b63a39b1c0>"
      ]
     },
     "execution_count": 9,
     "metadata": {},
     "output_type": "execute_result"
    }
   ],
   "source": [
    "cnn.add(tf.keras.layers.Flatten())\n",
    "cnn.add(tf.keras.layers.Dense(units=128, activation='relu'))\n",
    "cnn.add(tf.keras.layers.Dense(units=1, activation='sigmoid'))\n",
    "cnn.add(tf.keras.layers.Dense(3, activation='softmax'))\n",
    "cnn.compile(loss = 'kullback_leibler_divergence', optimizer='adam', metrics = ['accuracy'])\n",
    "cnn.fit(x = training_set, validation_data = test_set, epochs = 25)"
   ]
  },
  {
   "cell_type": "code",
   "execution_count": 11,
   "id": "16e878e5",
   "metadata": {},
   "outputs": [
    {
     "name": "stdout",
     "output_type": "stream",
     "text": [
      "1/1 [==============================] - 0s 53ms/step\n",
      "[[0.38507703 0.3077173  0.30720565]]\n"
     ]
    }
   ],
   "source": [
    "import numpy as np\n",
    "test_image =tf.keras.utils.load_img('C:\\\\Users\\\\91805\\\\Downloads\\\\Covid19-dataset\\\\test\\\\Covid\\\\094.png', target_size = (64, 64))\n",
    "test_image = tf.keras.utils.img_to_array(test_image)\n",
    "test_image = test_image / 255\n",
    "test_image = np.expand_dims(test_image, axis = 0)\n",
    "result = cnn.predict(test_image)\n",
    "print(result)"
   ]
  },
  {
   "cell_type": "code",
   "execution_count": null,
   "id": "be7fe1f2",
   "metadata": {},
   "outputs": [],
   "source": []
  }
 ],
 "metadata": {
  "kernelspec": {
   "display_name": "Python 3 (ipykernel)",
   "language": "python",
   "name": "python3"
  },
  "language_info": {
   "codemirror_mode": {
    "name": "ipython",
    "version": 3
   },
   "file_extension": ".py",
   "mimetype": "text/x-python",
   "name": "python",
   "nbconvert_exporter": "python",
   "pygments_lexer": "ipython3",
   "version": "3.9.12"
  }
 },
 "nbformat": 4,
 "nbformat_minor": 5
}
